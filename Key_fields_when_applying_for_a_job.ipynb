{
 "cells": [
  {
   "cell_type": "markdown",
   "metadata": {},
   "source": [
    "### Importing necessary libraries and creating a data set\n",
    "The .csv.file containing results of a developer survey on StackOverflow is read"
   ]
  },
  {
   "cell_type": "code",
   "execution_count": 1,
   "metadata": {},
   "outputs": [],
   "source": [
    "import pandas as pd\n",
    "import numpy as np\n",
    "import matplotlib.pyplot as plt\n",
    "import seaborn as sns\n",
    "%matplotlib inline\n",
    "\n",
    "df = pd.read_csv('./survey_results_public.csv')\n"
   ]
  },
  {
   "cell_type": "markdown",
   "metadata": {},
   "source": [
    "### Getting to know the data set - Data Understanding\n",
    "Checking the content of the columns Country and Gender. Their impact on fields of interest - when applying for a job - should be analysed. The fields of interest are represented by columns with the name 'AssessJob*'"
   ]
  },
  {
   "cell_type": "code",
   "execution_count": 2,
   "metadata": {},
   "outputs": [
    {
     "name": "stdout",
     "output_type": "stream",
     "text": [
      "   Respondent                                       Professional  \\\n",
      "0           1                                            Student   \n",
      "1           2                                            Student   \n",
      "2           3                             Professional developer   \n",
      "3           4  Professional non-developer who sometimes write...   \n",
      "4           5                             Professional developer   \n",
      "5           6                                            Student   \n",
      "6           7  Professional non-developer who sometimes write...   \n",
      "7           8                             Professional developer   \n",
      "8           9                             Professional developer   \n",
      "9          10                             Professional developer   \n",
      "\n",
      "                ProgramHobby         Country      University  \\\n",
      "0                  Yes, both   United States              No   \n",
      "1                  Yes, both  United Kingdom  Yes, full-time   \n",
      "2                  Yes, both  United Kingdom              No   \n",
      "3                  Yes, both   United States              No   \n",
      "4  Yes, I program as a hobby     Switzerland              No   \n",
      "5                  Yes, both     New Zealand  Yes, full-time   \n",
      "6                  Yes, both   United States              No   \n",
      "7                  Yes, both          Poland              No   \n",
      "8  Yes, I program as a hobby        Colombia  Yes, part-time   \n",
      "9  Yes, I program as a hobby          France  Yes, full-time   \n",
      "\n",
      "                                    EmploymentStatus  \\\n",
      "0             Not employed, and not looking for work   \n",
      "1                                 Employed part-time   \n",
      "2                                 Employed full-time   \n",
      "3                                 Employed full-time   \n",
      "4                                 Employed full-time   \n",
      "5             Not employed, and not looking for work   \n",
      "6                                 Employed full-time   \n",
      "7                                 Employed full-time   \n",
      "8                                 Employed full-time   \n",
      "9  Independent contractor, freelancer, or self-em...   \n",
      "\n",
      "                                     FormalEducation  \\\n",
      "0                                   Secondary school   \n",
      "1  Some college/university study without earning ...   \n",
      "2                                  Bachelor's degree   \n",
      "3                                    Doctoral degree   \n",
      "4                                    Master's degree   \n",
      "5                                   Secondary school   \n",
      "6                                    Master's degree   \n",
      "7                                    Master's degree   \n",
      "8                                  Bachelor's degree   \n",
      "9                                    Master's degree   \n",
      "\n",
      "                                  MajorUndergrad  \\\n",
      "0                                            NaN   \n",
      "1       Computer science or software engineering   \n",
      "2       Computer science or software engineering   \n",
      "3  A non-computer-focused engineering discipline   \n",
      "4       Computer science or software engineering   \n",
      "5                                            NaN   \n",
      "6  A non-computer-focused engineering discipline   \n",
      "7       Computer science or software engineering   \n",
      "8       Computer science or software engineering   \n",
      "9       Computer science or software engineering   \n",
      "\n",
      "                                          HomeRemote  \\\n",
      "0                                                NaN   \n",
      "1              More than half, but not all, the time   \n",
      "2  Less than half the time, but at least one day ...   \n",
      "3  Less than half the time, but at least one day ...   \n",
      "4                                              Never   \n",
      "5                                                NaN   \n",
      "6  Less than half the time, but at least one day ...   \n",
      "7  All or almost all the time (I'm full-time remote)   \n",
      "8  Less than half the time, but at least one day ...   \n",
      "9                                   It's complicated   \n",
      "\n",
      "                CompanySize       ...       StackOverflowMakeMoney Gender  \\\n",
      "0                       NaN       ...            Strongly disagree   Male   \n",
      "1        20 to 99 employees       ...            Strongly disagree   Male   \n",
      "2  10,000 or more employees       ...                     Disagree   Male   \n",
      "3  10,000 or more employees       ...                     Disagree   Male   \n",
      "4        10 to 19 employees       ...                          NaN    NaN   \n",
      "5                       NaN       ...                     Disagree    NaN   \n",
      "6        20 to 99 employees       ...                     Disagree   Male   \n",
      "7   Fewer than 10 employees       ...               Somewhat agree   Male   \n",
      "8  5,000 to 9,999 employees       ...            Strongly disagree   Male   \n",
      "9                       NaN       ...                     Disagree   Male   \n",
      "\n",
      "  HighestEducationParents                          Race         SurveyLong  \\\n",
      "0             High school  White or of European descent  Strongly disagree   \n",
      "1       A master's degree  White or of European descent     Somewhat agree   \n",
      "2   A professional degree  White or of European descent     Somewhat agree   \n",
      "3       A doctoral degree  White or of European descent              Agree   \n",
      "4                     NaN                           NaN                NaN   \n",
      "5     A bachelor's degree  White or of European descent           Disagree   \n",
      "6       A doctoral degree  White or of European descent           Disagree   \n",
      "7       A master's degree  White or of European descent              Agree   \n",
      "8     A bachelor's degree     Hispanic or Latino/Latina     Somewhat agree   \n",
      "9       A doctoral degree  White or of European descent     Somewhat agree   \n",
      "\n",
      "  QuestionsInteresting QuestionsConfusing InterestedAnswers    Salary  \\\n",
      "0       Strongly agree           Disagree    Strongly agree       NaN   \n",
      "1       Somewhat agree           Disagree    Strongly agree       NaN   \n",
      "2                Agree           Disagree             Agree  113750.0   \n",
      "3                Agree     Somewhat agree    Strongly agree       NaN   \n",
      "4                  NaN                NaN               NaN       NaN   \n",
      "5                Agree           Disagree             Agree       NaN   \n",
      "6                Agree           Disagree             Agree       NaN   \n",
      "7       Somewhat agree           Disagree             Agree       NaN   \n",
      "8       Strongly agree           Disagree    Strongly agree       NaN   \n",
      "9                Agree           Disagree             Agree       NaN   \n",
      "\n",
      "   ExpectedSalary  \n",
      "0             NaN  \n",
      "1         37500.0  \n",
      "2             NaN  \n",
      "3             NaN  \n",
      "4             NaN  \n",
      "5             NaN  \n",
      "6             NaN  \n",
      "7             NaN  \n",
      "8             NaN  \n",
      "9             NaN  \n",
      "\n",
      "[10 rows x 154 columns]\n"
     ]
    }
   ],
   "source": [
    "print(df.head(10))"
   ]
  },
  {
   "cell_type": "code",
   "execution_count": 3,
   "metadata": {},
   "outputs": [
    {
     "name": "stdout",
     "output_type": "stream",
     "text": [
      "Index(['Respondent', 'Professional', 'ProgramHobby', 'Country', 'University',\n",
      "       'EmploymentStatus', 'FormalEducation', 'MajorUndergrad', 'HomeRemote',\n",
      "       'CompanySize',\n",
      "       ...\n",
      "       'StackOverflowMakeMoney', 'Gender', 'HighestEducationParents', 'Race',\n",
      "       'SurveyLong', 'QuestionsInteresting', 'QuestionsConfusing',\n",
      "       'InterestedAnswers', 'Salary', 'ExpectedSalary'],\n",
      "      dtype='object', length=154)\n"
     ]
    }
   ],
   "source": [
    "print(df.columns)"
   ]
  },
  {
   "cell_type": "code",
   "execution_count": 4,
   "metadata": {},
   "outputs": [
    {
     "name": "stdout",
     "output_type": "stream",
     "text": [
      "United States                     4364\n",
      "India                             1557\n",
      "United Kingdom                    1424\n",
      "Germany                           1337\n",
      "Canada                             874\n",
      "Poland                             694\n",
      "France                             522\n",
      "Australia                          399\n",
      "Netherlands                        373\n",
      "Israel                             338\n",
      "Russian Federation                 330\n",
      "Spain                              312\n",
      "Italy                              304\n",
      "Sweden                             267\n",
      "Brazil                             259\n",
      "Romania                            251\n",
      "Switzerland                        242\n",
      "Austria                            190\n",
      "Slovenia                           190\n",
      "Iran                               174\n",
      "Czech Republic                     167\n",
      "Pakistan                           160\n",
      "Ukraine                            148\n",
      "Turkey                             146\n",
      "Belgium                            138\n",
      "Ireland                            134\n",
      "Finland                            132\n",
      "Greece                             129\n",
      "Hungary                            122\n",
      "China                              119\n",
      "                                  ... \n",
      "Bahrain                              2\n",
      "Bouvet Island                        2\n",
      "Fiji                                 1\n",
      "Ivory Coast (Cote D'Ivoire)          1\n",
      "S. Georgia & S. Sandwich Isls.       1\n",
      "Cayman Islands                       1\n",
      "Laos                                 1\n",
      "Gibraltar                            1\n",
      "Libya                                1\n",
      "Sudan                                1\n",
      "Zaire                                1\n",
      "Lesotho                              1\n",
      "Senegal                              1\n",
      "Togo                                 1\n",
      "American Samoa                       1\n",
      "Bhutan                               1\n",
      "Qatar                                1\n",
      "Bahamas                              1\n",
      "Malawi                               1\n",
      "Virgin Islands (British)             1\n",
      "Gabon                                1\n",
      "Brunei Darussalam                    1\n",
      "Virgin Islands (USA)                 1\n",
      "Angola                               1\n",
      "Cape Verde                           1\n",
      "Anguilla                             1\n",
      "Tadjikistan                          1\n",
      "Montenegro                           1\n",
      "Vatican City State                   1\n",
      "Burkina Faso                         1\n",
      "Name: Country, Length: 165, dtype: int64\n"
     ]
    }
   ],
   "source": [
    "print(df['Country'].value_counts())"
   ]
  },
  {
   "cell_type": "code",
   "execution_count": 5,
   "metadata": {},
   "outputs": [
    {
     "name": "stdout",
     "output_type": "stream",
     "text": [
      "Male                                                       11664\n",
      "Female                                                       970\n",
      "Other                                                         73\n",
      "Gender non-conforming                                         54\n",
      "Male; Other                                                   42\n",
      "Female; Transgender                                           28\n",
      "Transgender                                                   20\n",
      "Male; Gender non-conforming                                   19\n",
      "Female; Gender non-conforming                                 11\n",
      "Male; Female                                                   5\n",
      "Transgender; Gender non-conforming                             5\n",
      "Male; Transgender                                              4\n",
      "Male; Female; Transgender; Gender non-conforming; Other        4\n",
      "Female; Transgender; Gender non-conforming                     3\n",
      "Male; Female; Transgender                                      2\n",
      "Male; Female; Transgender; Gender non-conforming               2\n",
      "Male; Female; Other                                            1\n",
      "Gender non-conforming; Other                                   1\n",
      "Male; Female; Gender non-conforming                            1\n",
      "Female; Other                                                  1\n",
      "Name: Gender, dtype: int64\n"
     ]
    }
   ],
   "source": [
    "print(df['Gender'].value_counts())"
   ]
  },
  {
   "cell_type": "markdown",
   "metadata": {},
   "source": [
    "### The next cells contains some methods which will be used during the analysis - Data Preparation\n",
    "Details of the methods will be described in the methods' docstring"
   ]
  },
  {
   "cell_type": "markdown",
   "metadata": {},
   "source": [
    "Method for renaming of columns"
   ]
  },
  {
   "cell_type": "code",
   "execution_count": 6,
   "metadata": {},
   "outputs": [],
   "source": [
    "def rename_columns(data_frame,to_replace,replaced_by):\n",
    "    \n",
    "    \"\"\"Renames the column name in order to get a more readable representation.\n",
    "\n",
    "    Args:\n",
    "        data_frame (pd.DataFrame): data frame containing the columns to be adjusted\n",
    "        to_replace (str): (Sub-)string in the column name to be replaced\n",
    "        replaced_by (str): String used for replacing the former (Sub-)string\n",
    "        \n",
    "    Returns:\n",
    "        data_frame (pd.DataFrame): data frame with adjusted column names\n",
    "        \n",
    "    \"\"\"\n",
    "    \n",
    "    data_frame.columns = data_frame.columns.str.replace(to_replace, replaced_by)\n",
    "    \n",
    "    return data_frame"
   ]
  },
  {
   "cell_type": "markdown",
   "metadata": {},
   "source": [
    "Method for replacing categorical by numeric values"
   ]
  },
  {
   "cell_type": "code",
   "execution_count": 7,
   "metadata": {},
   "outputs": [],
   "source": [
    "def replace_cat_by_num(data_frame):\n",
    "    \n",
    "    \"\"\"Replaces categorical values of variables with numeric values\n",
    "\n",
    "    Args:\n",
    "        data_frame (pd.DataFrame): data frame containing categorical variables columns to be adjusted\n",
    "          \n",
    "    Returns:\n",
    "        data_frame (pd.DataFrame): data frame where categorical variables are replaced\n",
    "        \n",
    "    \"\"\"\n",
    "    \n",
    "    data_frame = data_frame.replace(['Very important','Important','Somewhat important','Not very important','Not at all important'],[5,4,3,2,1])\n",
    "    \n",
    "    return data_frame"
   ]
  },
  {
   "cell_type": "markdown",
   "metadata": {},
   "source": [
    "Method for retrieving a data frame containing top n fields of interest, based on their relevance for job candidates"
   ]
  },
  {
   "cell_type": "code",
   "execution_count": 8,
   "metadata": {},
   "outputs": [],
   "source": [
    "def get_topn(data_frame,assessjob_list,sel_var,sel_list,top_n):\n",
    "    \n",
    "    \"\"\"Replaces categorical values of variables with numeric values.\n",
    "\n",
    "    Args:\n",
    "        data_frame (pd.DataFrame): data frame to be converted\n",
    "        assessjob_list (list): list containing the fields of interest to be analyzed\n",
    "        sel_var (str): column name used to filter the data frame\n",
    "        sel_list (list): list of values used for the filter selection\n",
    "        top_n (int): determines the amount of top fields of interest to be returned\n",
    "          \n",
    "    Returns:\n",
    "        df_topn (pd.DataFrame): data frame containing the top n fields of interest and their relevance.\n",
    "        \n",
    "    \"\"\"\n",
    "    \n",
    "    if (sel_var=='Overall'):\n",
    "        df_topn = data_frame[assessjob_list]\n",
    "    else:\n",
    "        df_topn = data_frame[assessjob_list][data_frame[sel_var].isin(sel_list)]\n",
    "        \n",
    "    df_topn = replace_cat_by_num(df_topn)    \n",
    "    \n",
    "    rows = []\n",
    "    for column_name in df_topn:\n",
    "        rows.append([column_name,df_topn[column_name].mean()])\n",
    "   \n",
    "    df_topn = pd.DataFrame(rows,columns=['Field','Relevance']).sort_values('Relevance',ascending=False).head(top_n)\n",
    "    \n",
    "    return df_topn\n",
    "    \n"
   ]
  },
  {
   "cell_type": "markdown",
   "metadata": {},
   "source": [
    "### Putting it all together\n",
    "First of all, let's rename the column names of the original data set in order to provide a more compact view within the visualizations"
   ]
  },
  {
   "cell_type": "code",
   "execution_count": 9,
   "metadata": {},
   "outputs": [],
   "source": [
    "df = rename_columns(df,'AssessJob','')"
   ]
  },
  {
   "cell_type": "markdown",
   "metadata": {},
   "source": [
    "The relevant columns in the dataset representing the fields of interest for job candidates - when applying for a job - need to be defined."
   ]
  },
  {
   "cell_type": "code",
   "execution_count": 10,
   "metadata": {},
   "outputs": [],
   "source": [
    "list_of_values = ['Industry','Role','Exp','Dept','Tech','Projects','Compensation','Office','Commute','Remote','Leaders','ProfDevel','Diversity','Product','Finances']"
   ]
  },
  {
   "cell_type": "markdown",
   "metadata": {},
   "source": [
    "#### Overall analysis - What are the most relevant fields of interest for job candidates?\n",
    "Let's have a look at the top ten fields of interest, independent from any selection or filtering."
   ]
  },
  {
   "cell_type": "code",
   "execution_count": 11,
   "metadata": {},
   "outputs": [
    {
     "data": {
      "text/plain": [
       "[Text(0.5,1,'Overall')]"
      ]
     },
     "execution_count": 11,
     "metadata": {},
     "output_type": "execute_result"
    },
    {
     "data": {
      "image/png": "[encoded data removed]",
      "text/plain": [
       "<matplotlib.figure.Figure at 0x7f55019f4978>"
      ]
     },
     "metadata": {
      "needs_background": "light"
     },
     "output_type": "display_data"
    }
   ],
   "source": [
    "df_overall=get_topn(df,list_of_values,'Overall',['Overall'],10)\n",
    "sns.barplot(data=df_overall,y='Field',x='Relevance',palette=\"Blues_d\").set(title='Overall')"
   ]
  },
  {
   "cell_type": "markdown",
   "metadata": {},
   "source": [
    "#### Analysis based on gender - Are there differences between male and female job candidates?\n",
    "Let's have a look at the top five fields of interest for male job candidates."
   ]
  },
  {
   "cell_type": "code",
   "execution_count": 12,
   "metadata": {},
   "outputs": [
    {
     "data": {
      "text/plain": [
       "[Text(0.5,1,'Male')]"
      ]
     },
     "execution_count": 12,
     "metadata": {},
     "output_type": "execute_result"
    },
    {
     "data": {
      "image/png": "[encoded data removed]",
      "text/plain": [
       "<matplotlib.figure.Figure at 0x7f54ff9a3d68>"
      ]
     },
     "metadata": {
      "needs_background": "light"
     },
     "output_type": "display_data"
    }
   ],
   "source": [
    "df_male=get_topn(df,list_of_values,'Gender',['Male'],5)\n",
    "sns.barplot(data=df_male,y='Field',x='Relevance',palette=\"Blues_d\").set(title='Male')"
   ]
  },
  {
   "cell_type": "markdown",
   "metadata": {},
   "source": [
    "Let's have a look at the top five fields of interest for female job candidates."
   ]
  },
  {
   "cell_type": "code",
   "execution_count": 13,
   "metadata": {},
   "outputs": [
    {
     "data": {
      "text/plain": [
       "[Text(0.5,1,'Female')]"
      ]
     },
     "execution_count": 13,
     "metadata": {},
     "output_type": "execute_result"
    },
    {
     "data": {
      "image/png": "[encoded data removed]",
      "text/plain": [
       "<matplotlib.figure.Figure at 0x7f54ff98bfd0>"
      ]
     },
     "metadata": {
      "needs_background": "light"
     },
     "output_type": "display_data"
    }
   ],
   "source": [
    "df_female=get_topn(df,list_of_values,'Gender',['Female'],5)\n",
    "sns.barplot(data=df_female,y='Field',x='Relevance',palette=\"Blues_d\").set(title='Female')"
   ]
  },
  {
   "cell_type": "markdown",
   "metadata": {},
   "source": [
    "As the top five interests of male and female job candidates overlap completely, a comparison between the two genders can be visualized - in order to see the nuances."
   ]
  },
  {
   "cell_type": "code",
   "execution_count": 14,
   "metadata": {},
   "outputs": [
    {
     "name": "stdout",
     "output_type": "stream",
     "text": [
      "AxesSubplot(0.125,0.125;0.775x0.755)\n"
     ]
    },
    {
     "data": {
      "image/png": "[encoded data removed]",
      "text/plain": [
       "<matplotlib.figure.Figure at 0x7f54ff907b38>"
      ]
     },
     "metadata": {
      "needs_background": "light"
     },
     "output_type": "display_data"
    }
   ],
   "source": [
    "df_male['Gender']='Male'\n",
    "df_female['Gender']='Female'\n",
    "frames=[df_male,df_female]\n",
    "df_gender=pd.concat(frames)\n",
    "plt=sns.barplot('Field','Relevance','Gender',df_gender,palette=\"Blues_d\")\n",
    "plt.legend(loc='center right')\n",
    "print(plt)\n"
   ]
  },
  {
   "cell_type": "markdown",
   "metadata": {},
   "source": [
    "Obviously, the gender doesn't have a deciding impact on the interests. If - inspite of this fact - HR recruting tends to personalize job interviews, it should take into account the following ideas.\n",
    "Besides focussing on opportunities for professional development which holds true for men and women:\n",
    "- In case of female candidates, you could highlight the office environment. \n",
    "- In case of male candidates, you could highlight the compensation and benefits ordered."
   ]
  },
  {
   "cell_type": "markdown",
   "metadata": {},
   "source": [
    "#### Analysis based on country - Are there differences between job candidates from India, Germany and the US?\n",
    "Let's have a look at the top five fields of interest for job candidates in India."
   ]
  },
  {
   "cell_type": "code",
   "execution_count": 15,
   "metadata": {},
   "outputs": [
    {
     "data": {
      "text/plain": [
       "[Text(0.5,1,'India')]"
      ]
     },
     "execution_count": 15,
     "metadata": {},
     "output_type": "execute_result"
    },
    {
     "data": {
      "image/png": "[encoded data removed]",
      "text/plain": [
       "<matplotlib.figure.Figure at 0x7f54ff7cec88>"
      ]
     },
     "metadata": {
      "needs_background": "light"
     },
     "output_type": "display_data"
    }
   ],
   "source": [
    "df_india=get_topn(df,list_of_values,'Country',['India'],5)\n",
    "sns.barplot(data=df_india,y='Field',x='Relevance',palette=\"Blues_d\").set(title='India')\n"
   ]
  },
  {
   "cell_type": "markdown",
   "metadata": {},
   "source": [
    "Let's have a look at the top five fields of interest for job candidates in Germany."
   ]
  },
  {
   "cell_type": "code",
   "execution_count": 16,
   "metadata": {},
   "outputs": [
    {
     "data": {
      "text/plain": [
       "[Text(0.5,1,'Germany')]"
      ]
     },
     "execution_count": 16,
     "metadata": {},
     "output_type": "execute_result"
    },
    {
     "data": {
      "image/png": "[encoded data removed]",
      "text/plain": [
       "<matplotlib.figure.Figure at 0x7f54ff7dbb00>"
      ]
     },
     "metadata": {
      "needs_background": "light"
     },
     "output_type": "display_data"
    }
   ],
   "source": [
    "df_germany=get_topn(df,list_of_values,'Country',['Germany'],5)\n",
    "sns.barplot(data=df_germany,y='Field',x='Relevance',palette=\"Blues_d\").set(title='Germany')"
   ]
  },
  {
   "cell_type": "markdown",
   "metadata": {},
   "source": [
    "Let's have a look at the top five fields of interest for job candidates in United States."
   ]
  },
  {
   "cell_type": "code",
   "execution_count": 17,
   "metadata": {},
   "outputs": [
    {
     "data": {
      "text/plain": [
       "[Text(0.5,1,'United States')]"
      ]
     },
     "execution_count": 17,
     "metadata": {},
     "output_type": "execute_result"
    },
    {
     "data": {
      "image/png": "[encoded data removed]",
      "text/plain": [
       "<matplotlib.figure.Figure at 0x7f54ff6f16a0>"
      ]
     },
     "metadata": {
      "needs_background": "light"
     },
     "output_type": "display_data"
    }
   ],
   "source": [
    "df_us=get_topn(df,list_of_values,'Country',['United States'],5)\n",
    "sns.barplot(data=df_us,y='Field',x='Relevance',palette=\"Blues_d\").set(title='United States')"
   ]
  },
  {
   "cell_type": "markdown",
   "metadata": {},
   "source": [
    "When comparing Germany to the overall picture, it is obvious that professional development is the most important field of interest. In terms of more personalized job offers you could highlight successful projects of your company instead of commuting circumstances.\n",
    "\n",
    "Having a look at India, it shows a quite similar behaviour as Germany. A possible customizing could be the highlighting of the future role for the job candidate.\n",
    "\n",
    "When it comes to the analysis of potential employees in the US, the most obvious deviation from the overall picture is the most relevant field. In every case, HR recruiting should highlight a convincing package of compensation and benefits ."
   ]
  }
 ],
 "metadata": {
  "kernelspec": {
   "display_name": "Python 3",
   "language": "python",
   "name": "python3"
  },
  "language_info": {
   "codemirror_mode": {
    "name": "ipython",
    "version": 3
   },
   "file_extension": ".py",
   "mimetype": "text/x-python",
   "name": "python",
   "nbconvert_exporter": "python",
   "pygments_lexer": "ipython3",
   "version": "3.6.3"
  }
 },
 "nbformat": 4,
 "nbformat_minor": 2
}
